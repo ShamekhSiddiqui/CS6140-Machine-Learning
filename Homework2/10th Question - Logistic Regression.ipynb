{
 "cells": [
  {
   "cell_type": "code",
   "execution_count": 181,
   "id": "c08d83d9",
   "metadata": {},
   "outputs": [],
   "source": [
    "import numpy as np\n",
    "import scipy.io\n",
    "from scipy.io import loadmat\n",
    "import seaborn as sns\n",
    "import matplotlib.pyplot as plt\n",
    "from datetime import datetime, date, time\n",
    "import pandas as pd\n",
    "from sklearn.model_selection import train_test_split\n",
    "from sklearn.linear_model import LogisticRegression\n",
    "import sklearn.metrics as metrics\n",
    "from sklearn.metrics import mean_squared_error"
   ]
  },
  {
   "cell_type": "code",
   "execution_count": 162,
   "id": "b9194e2f",
   "metadata": {},
   "outputs": [],
   "source": [
    "#loading mat file\n",
    "mat = scipy.io.loadmat('hw02_dataset.mat')"
   ]
  },
  {
   "cell_type": "code",
   "execution_count": 163,
   "id": "640c75fc",
   "metadata": {},
   "outputs": [],
   "source": [
    "#creating dictionary to store values of train and test data\n",
    "train_data = {'x':[], 'y':[], 'label':[]}\n",
    "test_data = {'x':[], 'y':[], 'label':[]}\n",
    "\n",
    "#checking all keys of mat file and mapping to dictionary\n",
    "for key in mat:\n",
    "    if(key=='X_trn'):\n",
    "        for data in mat[key]:\n",
    "            train_data['x'].append(data[0])\n",
    "            train_data['y'].append(data[1])\n",
    "    elif(key=='X_tst'):\n",
    "        for data in mat[key]:\n",
    "            test_data['x'].append(data[0])\n",
    "            test_data['y'].append(data[1])\n",
    "    elif(key=='Y_trn'):\n",
    "        for data in mat[key]:\n",
    "            train_data['label'].append(data[0])\n",
    "    elif(key=='Y_tst'):\n",
    "        for data in mat[key]:\n",
    "            test_data['label'].append(data[0])\n",
    "            \n",
    "#converting dictionaries to pandas dataframe for easier access            \n",
    "train = pd.DataFrame(data = train_data)\n",
    "test = pd.DataFrame(data = test_data)"
   ]
  },
  {
   "cell_type": "code",
   "execution_count": 164,
   "id": "e627d91d",
   "metadata": {},
   "outputs": [],
   "source": [
    "# pqr=pd.Series(mat)\n",
    "# pd.DataFrame({'Key':pqr.index, 'Data':pqr.values})"
   ]
  },
  {
   "cell_type": "code",
   "execution_count": 165,
   "id": "949f1c7c",
   "metadata": {},
   "outputs": [
    {
     "name": "stdout",
     "output_type": "stream",
     "text": [
      "          x         y  label\n",
      "0 -0.219607  1.941066      0\n",
      "1 -0.456096  2.238609      0\n",
      "2 -0.130347  2.342862      0\n",
      "3 -0.699596  2.321811      0\n",
      "4 -1.180585  1.787855      0\n"
     ]
    }
   ],
   "source": [
    "print(train.head())"
   ]
  },
  {
   "cell_type": "code",
   "execution_count": 166,
   "id": "11383e2d",
   "metadata": {},
   "outputs": [
    {
     "name": "stdout",
     "output_type": "stream",
     "text": [
      "          x         y  label\n",
      "0 -0.219607  1.941066      0\n",
      "1 -0.456096  2.238609      0\n",
      "2 -0.130347  2.342862      0\n",
      "3 -0.699596  2.321811      0\n",
      "4 -1.180585  1.787855      0\n"
     ]
    }
   ],
   "source": [
    "# x values corresponding to class 0\n",
    "class_0 = train[train.label==0]\n",
    "print(class_0.head())"
   ]
  },
  {
   "cell_type": "code",
   "execution_count": 167,
   "id": "f4a0bc8a",
   "metadata": {},
   "outputs": [
    {
     "name": "stdout",
     "output_type": "stream",
     "text": [
      "           x         y  label\n",
      "63 -0.005963  1.067942      1\n",
      "64  1.196223  1.536610      1\n",
      "65  1.539176  0.893028      1\n",
      "66  0.828762  1.039379      1\n",
      "67  0.813011  1.116846      1\n"
     ]
    }
   ],
   "source": [
    "# x values corresponding to class 1\n",
    "class_1 = train[train.label==1]\n",
    "print(class_1.head())"
   ]
  },
  {
   "cell_type": "code",
   "execution_count": 168,
   "id": "e7a66639",
   "metadata": {},
   "outputs": [
    {
     "data": {
      "text/plain": [
       "<matplotlib.collections.PathCollection at 0x1d3afa48550>"
      ]
     },
     "execution_count": 168,
     "metadata": {},
     "output_type": "execute_result"
    },
    {
     "data": {
      "image/png": "[encoded data removed]",
      "text/plain": [
       "<Figure size 432x288 with 1 Axes>"
      ]
     },
     "metadata": {
      "needs_background": "light"
     },
     "output_type": "display_data"
    }
   ],
   "source": [
    "#scatter plot of of class 0 and class 1 coordinates\n",
    "plt.scatter(class_0['x'], class_0['y'], color = \"green\")\n",
    "plt.scatter(class_1['x'], class_1['y'], color = \"red\")"
   ]
  },
  {
   "cell_type": "code",
   "execution_count": 169,
   "id": "e6e025d4",
   "metadata": {},
   "outputs": [
    {
     "data": {
      "text/plain": [
       "LogisticRegression()"
      ]
     },
     "execution_count": 169,
     "metadata": {},
     "output_type": "execute_result"
    }
   ],
   "source": [
    "#splitting training data with 80-20 split\n",
    "train_split, test_split = train_test_split(train, test_size=0.2)\n",
    "model = LogisticRegression()\n",
    "model.fit(train_split[['x','y']],train_split['label'])"
   ]
  },
  {
   "cell_type": "code",
   "execution_count": 170,
   "id": "0dbef1b6",
   "metadata": {},
   "outputs": [
    {
     "name": "stdout",
     "output_type": "stream",
     "text": [
      "           x         y  label\n",
      "64  1.196223  1.536610      1\n",
      "2  -0.130347  2.342862      0\n",
      "32 -0.984424  1.547017      0\n",
      "80  1.702546  1.322872      1\n",
      "91  0.308884  1.157568      1\n"
     ]
    }
   ],
   "source": [
    "print(train_split.head())"
   ]
  },
  {
   "cell_type": "code",
   "execution_count": 171,
   "id": "bb824621",
   "metadata": {},
   "outputs": [
    {
     "data": {
      "image/png": "[encoded data removed]",
      "text/plain": [
       "<Figure size 432x288 with 1 Axes>"
      ]
     },
     "metadata": {
      "needs_background": "light"
     },
     "output_type": "display_data"
    }
   ],
   "source": [
    "# model parameters\n",
    "b = model.intercept_[0]\n",
    "coeff_1, coeff_2 = model.coef_.T\n",
    "# calculat slope and constant\n",
    "#intercept and gradient of the decision boundary.\n",
    "c = -b/coeff_2\n",
    "m = -coeff_1/coeff_2\n",
    "\n",
    "# Decision boundary plot along with scatter of original points\n",
    "x = np.array([-1, 3])\n",
    "y = m*x + c\n",
    "plt.plot(x, y, 'k', lw=1, ls='--')\n",
    "plt.fill_between(x, y, 3, color='tab:green', alpha=0.2)\n",
    "plt.fill_between(x, y, 3, color='tab:red', alpha=0.2)\n",
    "plt.scatter(class_0['x'],class_0['y'], color='green', alpha=0.5)\n",
    "plt.scatter(class_1['x'],class_1['y'], color='red', alpha=0.5)\n",
    "plt.xlim(-1, 3)\n",
    "plt.ylim(-1, 3)\n",
    "plt.ylabel(r'$x_2$')\n",
    "plt.xlabel(r'$x_1$')\n",
    "\n",
    "plt.show()"
   ]
  },
  {
   "cell_type": "code",
   "execution_count": 184,
   "id": "d6cd11df",
   "metadata": {},
   "outputs": [
    {
     "name": "stdout",
     "output_type": "stream",
     "text": [
      "Accuracy for Test data: is 96.82539682539682%\n",
      "Error for Test data: is 3.1746031746031744%\n"
     ]
    }
   ],
   "source": [
    "#training classification accuracy\n",
    "val_train = train.iloc[:, :2].values\n",
    "class_train = train.iloc[:,2].values\n",
    "class_pred=model.predict(val_train)\n",
    "ac = metrics.accuracy_score(class_train, class_pred)\n",
    "er = mean_squared_error(class_train, class_pred)\n",
    "print(\"Accuracy for Train data: is {}%\".format(ac*100))\n",
    "print(\"Error for Test Train: is {}%\".format(er*100))\n",
    "# print(class_train)"
   ]
  },
  {
   "cell_type": "code",
   "execution_count": 173,
   "id": "4ee0622a",
   "metadata": {},
   "outputs": [
    {
     "name": "stdout",
     "output_type": "stream",
     "text": [
      "[[-0.21960675  1.94106602]\n",
      " [-0.45609595  2.23860914]\n",
      " [-0.13034716  2.34286249]\n",
      " [-0.69959617  2.32181115]\n",
      " [-1.18058501  1.78785494]\n",
      " [-0.78022195  0.61034117]\n",
      " [-1.24254811  1.57962629]\n",
      " [-0.25822186  0.93823088]\n",
      " [-0.69059205  1.79145031]\n",
      " [-1.05495953  2.82363367]\n",
      " [-0.7655312   2.02147539]\n",
      " [-1.21219725  2.16749563]\n",
      " [-1.3729345   1.56071758]\n",
      " [-1.39594678  1.30831083]\n",
      " [-0.55621279  2.60261623]\n",
      " [-0.77021839  1.99812826]\n",
      " [-1.95820693  1.77380467]\n",
      " [-0.40320066  1.66267022]\n",
      " [-1.44186703  1.6057867 ]\n",
      " [-0.17345247  1.97140121]\n",
      " [-0.81170653  1.16854396]\n",
      " [-1.59775015  2.31263631]\n",
      " [-1.95841726  2.68696191]\n",
      " [-0.90749799  1.97681873]\n",
      " [-0.80568541  2.35285039]\n",
      " [-1.37873673  2.22854487]\n",
      " [-1.29623358  2.01173031]\n",
      " [-1.80293458  1.72936336]\n",
      " [-0.96189152  1.84663797]\n",
      " [-0.90936488  2.22464764]\n",
      " [ 0.07079506  2.19649402]\n",
      " [-0.86176261  0.81029941]\n",
      " [-0.98442379  1.54701666]\n",
      " [-1.06976803  1.77872591]\n",
      " [-0.91534712  1.98323069]\n",
      " [-0.84762976  1.12652755]\n",
      " [-1.37862942  2.36866915]\n",
      " [-0.8878903   1.82506057]\n",
      " [-0.52452791  2.74756692]\n",
      " [-0.88104219  1.65251561]\n",
      " [-0.9608464   1.97459521]\n",
      " [-1.19358978  2.32244363]\n",
      " [-0.66310485  1.64558363]\n",
      " [-1.00539453  2.51395698]\n",
      " [-1.70621181  2.68765097]\n",
      " [-1.02761863  2.24416876]\n",
      " [-0.72323852  1.70917734]\n",
      " [-0.77513409  1.9568409 ]\n",
      " [-0.25732409  1.93780788]\n",
      " [-0.84697961  1.61894587]\n",
      " [-1.41702876  1.70248289]\n",
      " [-1.52281353  1.32085848]\n",
      " [-1.03959201  1.65036461]\n",
      " [-1.23538095  1.40944822]\n",
      " [-1.43283633  1.80834634]\n",
      " [-1.57913075  2.04150088]\n",
      " [-1.01385971  2.04225853]\n",
      " [-1.27385068  2.27503375]\n",
      " [-1.48560518  2.30570055]\n",
      " [ 0.4362074   1.11760096]\n",
      " [-0.52789606  2.06915414]\n",
      " [-1.65756984  2.19950172]\n",
      " [-0.66062121  1.09383377]\n",
      " [-0.0059629   1.06794151]\n",
      " [ 1.1962233   1.53660962]\n",
      " [ 1.53917578  0.89302803]\n",
      " [ 0.82876191  1.03937905]\n",
      " [ 0.81301101  1.11684594]\n",
      " [ 0.27555494  1.36395425]\n",
      " [ 1.85365525  0.36884367]\n",
      " [ 1.42068375  1.41115896]\n",
      " [ 0.17101308  0.85198387]\n",
      " [ 0.76033241  1.23091507]\n",
      " [ 0.68250382  1.09145658]\n",
      " [ 1.74969374  0.67982061]\n",
      " [ 1.31637897  0.84591717]\n",
      " [ 0.90042225  1.22339378]\n",
      " [ 1.40596084  0.4682182 ]\n",
      " [ 1.49400153  1.41734728]\n",
      " [ 0.74558853  0.81282829]\n",
      " [ 1.70254602  1.32287183]\n",
      " [ 1.66431306  2.14637465]\n",
      " [ 0.23217717  0.65223777]\n",
      " [ 0.56219488  1.18525795]\n",
      " [ 1.365613    0.8928368 ]\n",
      " [ 1.07024237  0.5270753 ]\n",
      " [ 0.21655307  1.85656547]\n",
      " [ 1.03564173  0.34513574]\n",
      " [ 1.06189077  1.25059089]\n",
      " [ 0.30304596  1.27165801]\n",
      " [ 0.1880458   1.50997461]\n",
      " [ 0.30888352  1.1575679 ]\n",
      " [ 0.45102188  0.42753678]\n",
      " [ 0.24194056  0.42633616]\n",
      " [ 0.98799406  0.70858438]\n",
      " [ 0.53789214  0.90531066]\n",
      " [ 0.68342562  0.64399641]\n",
      " [ 0.28484319  1.25274736]\n",
      " [ 1.35861969  0.38033799]\n",
      " [ 2.03548112 -0.09048115]\n",
      " [ 0.88934507  1.23063764]\n",
      " [ 1.25903994  1.37561215]\n",
      " [ 1.40930788  1.60529098]\n",
      " [-0.18597093  1.24664816]\n",
      " [ 1.34367399  0.99282429]\n",
      " [ 0.97040592  0.34726489]\n",
      " [ 0.85467577  0.40036171]\n",
      " [ 1.20822178  0.59965448]\n",
      " [-0.04112606  0.52849007]\n",
      " [ 0.43036225  0.90657629]\n",
      " [ 1.82672699  1.39362056]\n",
      " [ 0.37288231  0.7032953 ]\n",
      " [-0.15020593  2.03579494]\n",
      " [ 0.89933613  1.468549  ]\n",
      " [ 1.5674805   0.83851698]\n",
      " [ 0.24919916  0.18543137]\n",
      " [ 1.03810576  1.10381577]\n",
      " [ 0.47173513  0.84172293]\n",
      " [ 1.36469123  0.75439915]\n",
      " [ 1.45318573 -0.15864208]\n",
      " [ 0.63699503  0.97541595]\n",
      " [ 0.61602343  0.37499633]\n",
      " [ 0.86503652  1.59268648]\n",
      " [ 1.23991039  1.33146861]\n",
      " [ 1.9559482   1.65627199]\n",
      " [ 0.9843922   1.52251283]]\n"
     ]
    }
   ],
   "source": [
    "print(val_test)"
   ]
  },
  {
   "cell_type": "code",
   "execution_count": 183,
   "id": "65781f87",
   "metadata": {},
   "outputs": [
    {
     "name": "stdout",
     "output_type": "stream",
     "text": [
      "Accuracy for Test data: is 92.85714285714286%\n",
      "Error for Test data: is 7.142857142857142%\n"
     ]
    }
   ],
   "source": [
    "#testing classification accuracy\n",
    "val_test = test.iloc[:, :2].values\n",
    "class_test = test.iloc[:,2].values\n",
    "class_pred=model.predict(val_test)\n",
    "a = metrics.accuracy_score(class_test, class_pred)\n",
    "e = mean_squared_error(class_test, class_pred)\n",
    "print(\"Accuracy for Test data: is {}%\".format(a*100))\n",
    "print(\"Error for Test data: is {}%\".format(e*100))\n",
    "\n",
    "# print(class_test)"
   ]
  }
 ],
 "metadata": {
  "kernelspec": {
   "display_name": "Python 3",
   "language": "python",
   "name": "python3"
  },
  "language_info": {
   "codemirror_mode": {
    "name": "ipython",
    "version": 3
   },
   "file_extension": ".py",
   "mimetype": "text/x-python",
   "name": "python",
   "nbconvert_exporter": "python",
   "pygments_lexer": "ipython3",
   "version": "3.6.8"
  }
 },
 "nbformat": 4,
 "nbformat_minor": 5
}
