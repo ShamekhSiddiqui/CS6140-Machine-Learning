{
 "cells": [
  {
   "cell_type": "code",
   "execution_count": 16,
   "id": "fdb66bef",
   "metadata": {},
   "outputs": [],
   "source": [
    "import pandas as pd\n",
    "import numpy as np\n",
    "import matplotlib.pyplot as plt\n",
    "from numpy.linalg import inv\n",
    "from sklearn.datasets import load_boston"
   ]
  },
  {
   "cell_type": "markdown",
   "id": "773d77f2",
   "metadata": {},
   "source": [
    "# 1"
   ]
  },
  {
   "cell_type": "code",
   "execution_count": 36,
   "id": "ab671b06",
   "metadata": {},
   "outputs": [],
   "source": [
    "def closedform(X,Y):\n",
    "    # closed form formula (X.T*X)^(-1)*(X.T*Y)\n",
    "    Y=np.mat(Y)\n",
    "    xt = X.T\n",
    "    xtx = xt.dot(X)\n",
    "    inv = np.linalg.pinv(xtx)\n",
    "    xty = xt.dot(Y)\n",
    "    coeffs = inv.dot(xty)\n",
    "    \n",
    "    return coeffs"
   ]
  },
  {
   "cell_type": "code",
   "execution_count": 91,
   "id": "06ec5d1a",
   "metadata": {},
   "outputs": [
    {
     "name": "stdout",
     "output_type": "stream",
     "text": [
      "[[0.90305437]\n",
      " [0.37216249]]\n"
     ]
    }
   ],
   "source": [
    "X = np.array([0.10,0.50,0.90,-0.20,-0.5,1.50])\n",
    "Y = np.array([0.65,0.10,0.35,0.17,0.42,2.62])\n",
    "# reshaping X and Y to reshape single features to columns\n",
    "X = X.reshape((-1,1))\n",
    "Y = Y.reshape((-1,1))\n",
    "# stacking 1 along X horizontally to make it 2 dimensional which gives us (6,2) shape for calculations\n",
    "X_1=np.hstack((X,np.ones((X.shape[0],1))))\n",
    "\n",
    "Theta = closedform(X_1,Y)\n",
    "print(Theta)\n"
   ]
  },
  {
   "cell_type": "code",
   "execution_count": 92,
   "id": "34f9fdeb",
   "metadata": {},
   "outputs": [],
   "source": [
    "def pred(X,Theta):\n",
    "    return (X*Theta[0] + Theta[1])"
   ]
  },
  {
   "cell_type": "markdown",
   "id": "6d8c3173",
   "metadata": {},
   "source": [
    "# 2."
   ]
  },
  {
   "cell_type": "code",
   "execution_count": 101,
   "id": "08048098",
   "metadata": {},
   "outputs": [
    {
     "data": {
      "image/png": "[encoded data removed]",
      "text/plain": [
       "<Figure size 432x288 with 1 Axes>"
      ]
     },
     "metadata": {
      "needs_background": "light"
     },
     "output_type": "display_data"
    }
   ],
   "source": [
    "# plotting the actual points as scatter plot\n",
    "plt.scatter(X, Y, color = \"m\")\n",
    " \n",
    "# regression line\n",
    "y_pred = pred(X,Theta)\n",
    "plt.plot(X, y_pred, color = \"g\")\n",
    " \n",
    "# putting labels\n",
    "plt.xlabel('x')\n",
    "plt.ylabel('y')\n",
    "plt.axis([-1,2,-1, +4])\n",
    "\n",
    "# function to show plot\n",
    "plt.show()"
   ]
  },
  {
   "cell_type": "markdown",
   "id": "73469c14",
   "metadata": {},
   "source": [
    "# 3. "
   ]
  },
  {
   "cell_type": "code",
   "execution_count": 96,
   "id": "c9d9742a",
   "metadata": {},
   "outputs": [
    {
     "name": "stdout",
     "output_type": "stream",
     "text": [
      "[[-0.06850649]\n",
      " [ 0.34896104]]\n"
     ]
    }
   ],
   "source": [
    "# new X and Y list with last point/outlier removed\n",
    "X_new = np.array([0.10,0.50,0.90,-0.20,-0.5])\n",
    "Y_new = np.array([0.65,0.10,0.35,0.17,0.42])\n",
    "# reshaping X and Y to reshape single features to columns\n",
    "X_new = X_new.reshape((-1,1))\n",
    "Y_new = Y_new.reshape((-1,1))\n",
    "# stacking 1 along X to make it 2 dimensional which gives us (5,2) shape for calculations\n",
    "X_new_1 = np.hstack((X_new,np.ones((X_new.shape[0],1))))\n",
    "\n",
    "\n",
    "Theta_new = closedform(X_new_1,Y_new)\n",
    "print(Theta_new)"
   ]
  },
  {
   "cell_type": "code",
   "execution_count": 103,
   "id": "483557a3",
   "metadata": {},
   "outputs": [
    {
     "data": {
      "image/png": "[encoded data removed]",
      "text/plain": [
       "<Figure size 432x288 with 1 Axes>"
      ]
     },
     "metadata": {
      "needs_background": "light"
     },
     "output_type": "display_data"
    }
   ],
   "source": [
    "# plotting the actual points as scatter plot\n",
    "plt.scatter(X_new, Y_new, color = \"m\")\n",
    " \n",
    "# regression line\n",
    "y_pred_new = pred(X_new,Theta_new)\n",
    "plt.plot(X_new, y_pred_new, color = \"g\")\n",
    " \n",
    "# putting labels\n",
    "plt.xlabel('x')\n",
    "plt.ylabel('y')\n",
    "plt.axis([-1,2,-1, +2])\n",
    " \n",
    "# function to show plot\n",
    "plt.show()"
   ]
  },
  {
   "cell_type": "markdown",
   "id": "8031305c",
   "metadata": {},
   "source": [
    "# The new estimated line is below the estimated previous line as here we have removed the last point which can be considered as an outlier. So it does not take the outlier into consideration and gives a line with less mean_squared erro than the previous one."
   ]
  }
 ],
 "metadata": {
  "kernelspec": {
   "display_name": "Python 3",
   "language": "python",
   "name": "python3"
  },
  "language_info": {
   "codemirror_mode": {
    "name": "ipython",
    "version": 3
   },
   "file_extension": ".py",
   "mimetype": "text/x-python",
   "name": "python",
   "nbconvert_exporter": "python",
   "pygments_lexer": "ipython3",
   "version": "3.6.8"
  }
 },
 "nbformat": 4,
 "nbformat_minor": 5
}
